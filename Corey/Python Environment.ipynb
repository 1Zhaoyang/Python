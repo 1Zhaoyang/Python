{
 "cells": [
  {
   "cell_type": "markdown",
   "metadata": {},
   "source": [
    "Setting up a Python Environment\n",
    "===\n",
    "---"
   ]
  },
  {
   "cell_type": "markdown",
   "metadata": {},
   "source": [
    "Virtualenv and why you should use virtual environments\n",
    "----"
   ]
  },
  {
   "cell_type": "markdown",
   "metadata": {},
   "source": [
    "Mac OS    \n",
    "[1] virtual env is a way that you can separate different python environments for different projects.    \n",
    "[2] `pip install virtualenv`   \n",
    "`pip list`    \n",
    "[3] Now let's use virtualenv to make a few different python environments, first I like to make a directory that is called environments to keep all these in one place.    \n",
    "`mkdir Environments`   \n",
    "[4] And I'll go ahead, and cd to that directory   \n",
    "`cd !$`  `cd Environments`     \n",
    "\n",
    "[5] So if do and `ls` here you can see that this directory is currently empty. To make our first virtual environment let's just     \n",
    "`virtualenv project1_env`  \n",
    "[6] In order to activate this new Python environment   \n",
    "`source project1_env/bin/activate`\n",
    "[7] To judge which environment we are in   \n",
    "`which python`   \n",
    "[8] Let's go ahead and install a few packages into this new Python environment,   \n",
    "`pip install numpy`     \n",
    "[9] Now let's say I wanted to export all these packages their version numbers to use in another project    \n",
    "`pip freeze --local`  \n",
    "what  this does is you can also use your global site packages within a virtual python environmnet, we didn't choose to do that but if we had then you have all those golbal sight packages available to us.     \n",
    "If you do it get freeze local, then what that does is it takes only the local dependencies that you had in your python environmnet.    \n",
    "[10] let's go ahead and output this to a requirements    \n",
    "`pip freeze --local > requirements.txt`    \n",
    "then do an `ls` to make sure we got that    \n",
    "[11] then we do a cat on the requirements file, you can see that we have all of our packages and version numbers there.    \n",
    "`cat requirements.txt`    \n",
    "[12]Now you wanted to get out of your python environment you want to go back to be in the global environment    \n",
    "`deactivate`    \n",
    "[13] delate a environment   \n",
    "`rm -rf project1_env`    \n"
   ]
  },
  {
   "cell_type": "markdown",
   "metadata": {},
   "source": [
    "Anaconda-Installation and Using Conda\n",
    "----"
   ]
  },
  {
   "cell_type": "markdown",
   "metadata": {},
   "source": [
    "we'll be learning how to get started with Anaconda by continuum analytics.     \n",
    "Anaconda is a data science platform that comes with a lot of stuff right out of the box.      \n",
    "including    \n",
    "a python distribution    \n",
    "a package manager called conda, a way to manage environments...    \n",
    "These packages are usually related to data science.   "
   ]
  },
  {
   "cell_type": "markdown",
   "metadata": {},
   "source": [
    "**Question: Why would you need it?**     \n",
    "[1] So what benefit you get from Anaconda as opposed to just installing these packages through pip or something like like.   \n",
    "[2] You shouldn't feel obligated to use Anaconda. It's really just an option that some people prefer.   \n",
    "`benefits including:`    \n",
    "[1] installing python on multiple platforms   \n",
    "[2] separating out different environments    \n",
    "[3] Dealing with not having correct privileges   \n",
    "[4] getting up and runing with specific packages libraries   "
   ]
  },
  {
   "cell_type": "markdown",
   "metadata": {},
   "source": [
    "**packages that comes pre-installed with Anaconda**    \n",
    "miniconda"
   ]
  },
  {
   "cell_type": "markdown",
   "metadata": {},
   "source": [
    "**First: Installing**   \n",
    "[1] Download form website   \n",
    "[2] now that downlad is finished, pull up my terminal to test.     \n",
    "When we install it anaconda, it should have automatically added that to our path.     \n",
    "[3] `python`  \n",
    "If everything installed correctly and we should have a python version 3 here and you can see that It's using this anaconda distribution, and if you install the full version of Anaconda then we should be able to import certain packages that were included with that download.    \n",
    "[4] `exit()` to exit python   "
   ]
  },
  {
   "cell_type": "markdown",
   "metadata": {},
   "source": [
    "**Second: Add more packages**   \n",
    "[1] `pip list` lists out all of the packages that came pre-installed with Anaconda    \n",
    "[2] Anaconda also comes with its own package manager called conda   \n",
    "Conda is useful because we can use it to install non python packages and dependencies. So it can install come thins that wouldn't necessarily make sense with pip.    \n",
    "We can view all the commands that we can use with Conda by running `conda --help`.     \n",
    "you can see that a lot of these conda commands are similar to our pip commands for example   \n",
    "`conda list`    \n",
    "`conda install`  "
   ]
  },
  {
   "cell_type": "markdown",
   "metadata": {},
   "source": [
    "**Third: Using conda to manage your environment**    \n",
    "[1] virtually envy where you can make isolated virtual environments for different projects and conda can do that as well. And it even has a few advantages over virtual envi.      \n",
    "[2] how we can create some virtual environments    \n",
    "[3] Basically what they're used for is when we want to work on multiple projects which may use different versions or different packages and possible even different versions of python.     \n",
    "[4] Instead of trying to get all of our projects to conform to our global installations and versions, we can instead just create these separate environments that have the specific packages and versions that we need.     \n",
    "`conda create --name my_app flask sqlalchemy`     \n",
    "[5] you have to have at least one starting package when you create a new environment with Conda. But you don't want one then you just pass in sth. like pip or python.    \n",
    "[6] Now we want to activate that new environment that we just created now   \n",
    "`activate my_app`   \n",
    "[7] once we have that environment activated, if we do a `pip list` then you can see that we only have our seveal packages.    \n",
    "[8] On Mac or Linux, if we want to see the path to which python we're using then we can run    \n",
    "`which python`   \n",
    "you can see that the python that we're using is now within this my_app environment.    \n",
    "[9] Once you're done with your environment and want to deactivate it on windows.    \n",
    "`deactivate`   \n",
    "[10] So we can also use conda to create environments using different versions of python    \n",
    "`conda create --name my_app27 python=2.7 flask sqlalchemy`    \n",
    "`activate my_app27`   \n",
    "`python`    \n",
    "`exit()`   \n",
    "`deactivate`   \n",
    "[11] we can view our environments that we've created   \n",
    "`conda env list`    \n",
    "[12] if you ever want to remove an environment, we need to specify of the packages and if we just want to delete the entire thing then we can just say all    \n",
    "`conda remove --name my_app --all`   "
   ]
  }
 ],
 "metadata": {
  "kernelspec": {
   "display_name": "Python 3",
   "language": "python",
   "name": "python3"
  },
  "language_info": {
   "codemirror_mode": {
    "name": "ipython",
    "version": 3
   },
   "file_extension": ".py",
   "mimetype": "text/x-python",
   "name": "python",
   "nbconvert_exporter": "python",
   "pygments_lexer": "ipython3",
   "version": "3.8.2"
  }
 },
 "nbformat": 4,
 "nbformat_minor": 4
}
