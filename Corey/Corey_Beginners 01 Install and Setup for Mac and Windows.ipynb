{
 "cells": [
  {
   "cell_type": "markdown",
   "metadata": {},
   "source": [
    "Corey_Beginners 01: Install and Setup for Mac and Windows\n",
    "====\n",
    "<https://www.youtube.com/watch?v=YYXdXT2l-Gg&list=PL-osiE80TeTskrapNbzXhwoFUiLCjGgY7>"
   ]
  },
  {
   "cell_type": "markdown",
   "metadata": {},
   "source": [
    "**Content:**  \n",
    "- Install python on both Mac and windows  \n",
    "- How to run python interactively within the terminal or command line   "
   ]
  },
  {
   "cell_type": "markdown",
   "metadata": {},
   "source": [
    "1- Install python on Mac\n",
    "---"
   ]
  },
  {
   "cell_type": "markdown",
   "metadata": {},
   "source": [
    "**(1) Check the python installation in Mac**   \n",
    "`python --version`   "
   ]
  },
  {
   "cell_type": "markdown",
   "metadata": {},
   "source": [
    "**(2) Install in Mac**  \n",
    "Once it finished installing, it will place a python 3.6 directory in your application folder.   "
   ]
  },
  {
   "cell_type": "markdown",
   "metadata": {},
   "source": [
    "**(3) Check again**   \n",
    "`python --version`  can not detect python 3.6   \n",
    "`python3 --version` can detect.   "
   ]
  },
  {
   "cell_type": "markdown",
   "metadata": {},
   "source": [
    "**(4) Replace python with python3**  \n",
    "If we want the python comman to use python3 (用python3命令来执行命令可能有点费劲), one way is to create an alias.    \n",
    "[1] `nano ~/.bash_profile`   \n",
    "[2] go to the bottom `alia python=python3`   \n",
    "[3] `ctrl+x` to exit, and hit `y` to save it; hit `enter` to keep the same fillname.   \n",
    "the file _.bash_profile_ allows us to associate the python command with python3   \n",
    "\n",
    "\n",
    "\n",
    "\n"
   ]
  },
  {
   "cell_type": "markdown",
   "metadata": {},
   "source": [
    "2- Install python on Windows\n",
    "---"
   ]
  },
  {
   "cell_type": "markdown",
   "metadata": {},
   "source": [
    "**(1) an important step during installation**  \n",
    "check `add python 3.6 to PATH`  this will allow the python command to work with the command prompt.  \n",
    "**(2) check**  \n",
    "cmd  \n",
    "python --version"
   ]
  },
  {
   "cell_type": "markdown",
   "metadata": {},
   "source": [
    "3- How to run python interactively within the terminal or command line\n",
    "---"
   ]
  },
  {
   "cell_type": "markdown",
   "metadata": {},
   "source": [
    "**(1) test python commands**  \n",
    "[1] `python`   \n",
    "[2] `>>>`  an interactive prompt   \n",
    "[3] `exit()`   \n",
    "the above allows us to write one line of python at a time   "
   ]
  },
  {
   "cell_type": "markdown",
   "metadata": {},
   "source": [
    "**(2) Run a py file in the cmd/ terminal**   \n",
    "[1] `python`   \n",
    "[2] `python Desktop/intro.py`   \n",
    "relative to the directory that we're current in.  "
   ]
  },
  {
   "cell_type": "markdown",
   "metadata": {},
   "source": [
    "4- Editor\n",
    "---"
   ]
  },
  {
   "cell_type": "markdown",
   "metadata": {},
   "source": [
    "**(1) plaintext text editor**  \n",
    "[1] Sublime text   \n",
    "[2] Atom  \n",
    "text editor with a lot of extra functionality built in.   \n",
    "[3] PyCharm  \n",
    "a popular IDE, full load IDE with extra features, like the ability to debug a running application.  "
   ]
  },
  {
   "cell_type": "markdown",
   "metadata": {},
   "source": [
    "**(2) Command line editor**  \n",
    "[1] vim  \n",
    "[2] Emacs  "
   ]
  }
 ],
 "metadata": {
  "kernelspec": {
   "display_name": "Python 3",
   "language": "python",
   "name": "python3"
  },
  "language_info": {
   "codemirror_mode": {
    "name": "ipython",
    "version": 3
   },
   "file_extension": ".py",
   "mimetype": "text/x-python",
   "name": "python",
   "nbconvert_exporter": "python",
   "pygments_lexer": "ipython3",
   "version": "3.7.3"
  }
 },
 "nbformat": 4,
 "nbformat_minor": 4
}
