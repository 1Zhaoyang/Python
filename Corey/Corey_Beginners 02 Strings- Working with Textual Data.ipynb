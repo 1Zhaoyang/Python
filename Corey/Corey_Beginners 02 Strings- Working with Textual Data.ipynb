{
 "cells": [
  {
   "cell_type": "markdown",
   "metadata": {},
   "source": [
    "Corey_Beginners 02: Strings- Working with Textual Data\n",
    "====\n",
    "<https://www.youtube.com/watch?v=YYXdXT2l-Gg&list=PL-osiE80TeTskrapNbzXhwoFUiLCjGgY7>"
   ]
  },
  {
   "cell_type": "markdown",
   "metadata": {},
   "source": [
    "**Content**  \n",
    "1. Make String  \n",
    "2. Slicing  \n",
    "3. String Method  \n",
    "4. Formmated String  \n",
    "5. Dir&Help: Check all attributes and methods of string   "
   ]
  },
  {
   "cell_type": "markdown",
   "metadata": {},
   "source": [
    "1- Make String  \n",
    "---"
   ]
  },
  {
   "cell_type": "code",
   "execution_count": 1,
   "metadata": {},
   "outputs": [
    {
     "name": "stdout",
     "output_type": "stream",
     "text": [
      "\n",
      "Hi, \n",
      "how are you\n"
     ]
    }
   ],
   "source": [
    "message = 'Hello World'\n",
    "# nested parathesis\n",
    "message = 'Pang\\'s World'\n",
    "message = \"Pang's World\"\n",
    "# Multi-line string\n",
    "message = '''\n",
    "Hi\n",
    "how are you'''\n",
    "message = \"\"\"\n",
    "Hi, \n",
    "how are you\"\"\"\n",
    "print(message)"
   ]
  },
  {
   "cell_type": "markdown",
   "metadata": {},
   "source": [
    "2- Slicing\n",
    "---"
   ]
  },
  {
   "cell_type": "code",
   "execution_count": 23,
   "metadata": {},
   "outputs": [
    {
     "name": "stdout",
     "output_type": "stream",
     "text": [
      "d\n",
      "Hello\n",
      "dlroW ,ol\n",
      "dlroW ,olleH\n"
     ]
    }
   ],
   "source": [
    "message = 'Hello, World'\n",
    "print(message[-1])\n",
    "print(message[:5])\n",
    "\n",
    "# jump list[start:end:step]\n",
    "print(message[-1:2:-1])\n",
    "\n",
    "# Reverse the entire string\n",
    "print(message[::-1])"
   ]
  },
  {
   "cell_type": "markdown",
   "metadata": {},
   "source": [
    "3- String Method\n",
    "---"
   ]
  },
  {
   "cell_type": "code",
   "execution_count": 15,
   "metadata": {},
   "outputs": [
    {
     "name": "stdout",
     "output_type": "stream",
     "text": [
      "hello, world\n",
      "HELLO, WORLD\n",
      "3\n",
      "7\n",
      "Hello, World\n",
      "Hello, Universe\n"
     ]
    }
   ],
   "source": [
    "# A method is just a function that belongs to an object  \n",
    "message = 'Hello, World'\n",
    "print (message.lower())\n",
    "print (message.upper())\n",
    "print (message.count('l'))\n",
    "print (message.find('World'))\n",
    "print(message)\n",
    "new_message = message.replace('World', 'Universe')\n",
    "print(new_message)"
   ]
  },
  {
   "cell_type": "markdown",
   "metadata": {},
   "source": [
    "4- Formatted String\n",
    "---"
   ]
  },
  {
   "cell_type": "code",
   "execution_count": 16,
   "metadata": {},
   "outputs": [
    {
     "name": "stdout",
     "output_type": "stream",
     "text": [
      "Hello, Michael\n"
     ]
    }
   ],
   "source": [
    "# concatenate string together\n",
    "greeting = 'Hello'\n",
    "name='Michael'\n",
    "message = greeting + ', '+name\n",
    "print(message)"
   ]
  },
  {
   "cell_type": "code",
   "execution_count": 28,
   "metadata": {},
   "outputs": [
    {
     "name": "stdout",
     "output_type": "stream",
     "text": [
      "Hello, Michael, Welcome!\n"
     ]
    }
   ],
   "source": [
    "# formatted string\n",
    "message = '{}, {}, Welcome!'.format(greeting, name)\n",
    "print(message)"
   ]
  },
  {
   "cell_type": "code",
   "execution_count": 37,
   "metadata": {},
   "outputs": [
    {
     "name": "stdout",
     "output_type": "stream",
     "text": [
      "Hello,MICHAEL. Welcome!\n"
     ]
    }
   ],
   "source": [
    "# f string\n",
    "message = f'{greeting},{name.upper()}. Welcome!'\n",
    "print(message)"
   ]
  },
  {
   "cell_type": "markdown",
   "metadata": {},
   "source": [
    "**Advanced**"
   ]
  },
  {
   "cell_type": "code",
   "execution_count": 27,
   "metadata": {},
   "outputs": [
    {
     "name": "stdout",
     "output_type": "stream",
     "text": [
      "Michael, Hello, Welcome!\n",
      "<h1>This is a headline<h1>\n"
     ]
    }
   ],
   "source": [
    "# explicitly number your placeholder\n",
    "message = '{1}, {0}, Welcome!'.format(greeting, name)\n",
    "print(message)\n",
    "tag = 'h1'\n",
    "text = 'This is a headline'\n",
    "sentence = '<{0}>{1}<{0}>'.format(tag,text)\n",
    "print(sentence)"
   ]
  },
  {
   "cell_type": "code",
   "execution_count": 33,
   "metadata": {},
   "outputs": [
    {
     "name": "stdout",
     "output_type": "stream",
     "text": [
      "My name is Jenn and I am 23 years old.\n",
      "My name is Jenn and I am 23 years old.\n"
     ]
    }
   ],
   "source": [
    "# get access into a field of a dict from the placeholder; the same for a listb\n",
    "person = {'name':'Jenn', 'age':23}\n",
    "sentence='My name is {0} and I am {1} years old.'.format(person['name'], person['age'])\n",
    "print(sentence)\n",
    "sentence='My name is {0[name]} and I am {1[age]} years old.'.format(person, person)\n",
    "sentence='My name is {0[name]} and I am {0[age]} years old.'.format(person)\n",
    "print(sentence)"
   ]
  },
  {
   "cell_type": "code",
   "execution_count": 36,
   "metadata": {},
   "outputs": [
    {
     "name": "stdout",
     "output_type": "stream",
     "text": [
      "My name is Jack and I am 33 years old.\n"
     ]
    }
   ],
   "source": [
    "# Similar operation for a class with a little bit differences\n",
    "class Person():\n",
    "    def __init__(self, name, age):\n",
    "        self.name = name\n",
    "        self.age = age\n",
    "pl = Person('Jack','33')\n",
    "sentence='My name is {0.name} and I am {0.age} years old.'.format(pl)\n",
    "print(sentence)"
   ]
  },
  {
   "cell_type": "code",
   "execution_count": 38,
   "metadata": {},
   "outputs": [
    {
     "name": "stdout",
     "output_type": "stream",
     "text": [
      "My name is Jenn and I am 23 years old.\n"
     ]
    }
   ],
   "source": [
    "# We can also pass in keyword arguments to format \n",
    "sentence='My name is {name} and I am {age} years old.'.format(name='Jenn', age=30)\n",
    "# just pass in some keword to the placeholders\n",
    "\n",
    "# This method could be used to print out dictionary\n",
    "# you need to know unpack list and dictionary\n",
    "person = {'name':'Jenn', 'age':23}\n",
    "sentence='My name is {name} and I am {age} years old.'.format(**person) # unpack the dic\n",
    "print(sentence)"
   ]
  },
  {
   "cell_type": "markdown",
   "metadata": {},
   "source": [
    "**numbers**"
   ]
  },
  {
   "cell_type": "code",
   "execution_count": 42,
   "metadata": {},
   "outputs": [
    {
     "name": "stdout",
     "output_type": "stream",
     "text": [
      "The value is 01\n",
      "The value is 02\n",
      "The value is 03\n",
      "The value is 04\n",
      "The value is 05\n",
      "The value is 06\n",
      "The value is 07\n",
      "The value is 08\n",
      "The value is 09\n",
      "The value is 10\n"
     ]
    }
   ],
   "source": [
    "# zero pad the numbers\n",
    "for i in range(1,11):\n",
    "    # add a colon first, then add whatever we like\n",
    "    sentence ='The value is {:02}'.format(i) # 填充0至两位数\n",
    "    print(sentence)"
   ]
  },
  {
   "cell_type": "code",
   "execution_count": 44,
   "metadata": {},
   "outputs": [
    {
     "name": "stdout",
     "output_type": "stream",
     "text": [
      "Pi is equal to 3.142\n"
     ]
    }
   ],
   "source": [
    "# decimal palces\n",
    "pi = 3.141592653\n",
    "sentence = 'Pi is equal to {:.3f}'.format(pi)\n",
    "print(sentence)"
   ]
  },
  {
   "cell_type": "code",
   "execution_count": 46,
   "metadata": {},
   "outputs": [
    {
     "name": "stdout",
     "output_type": "stream",
     "text": [
      "1MB is equal to 1,000,000.00 bytes\n"
     ]
    }
   ],
   "source": [
    "# set comma separaters for large number\n",
    "sentence = '1MB is equal to {:,} bytes'.format(1000**2)\n",
    "sentence = '1MB is equal to {:,.2f} bytes'.format(1000**2)\n",
    "print(sentence)"
   ]
  },
  {
   "cell_type": "code",
   "execution_count": 49,
   "metadata": {},
   "outputs": [
    {
     "name": "stdout",
     "output_type": "stream",
     "text": [
      "2016-09-24 12:30:45\n",
      "September 24, 2016\n",
      "September 24, 2016 fell on a Saturday and was the 268 day of the year\n"
     ]
    }
   ],
   "source": [
    "# format date\n",
    "# %B full month; %d the day of the month\n",
    "import datetime\n",
    "my_date = datetime.datetime(2016, 9, 24, 12, 30, 45)\n",
    "print(my_date)\n",
    "sentence = '{:%B %d, %Y}'.format(my_date)\n",
    "print(sentence)\n",
    "sentence = '{0:%B %d, %Y} fell on a {0:%A} and was the {0:%j} day of the year'.format(my_date)\n",
    "print(sentence)"
   ]
  },
  {
   "cell_type": "markdown",
   "metadata": {},
   "source": [
    "5- Dir and Help\n",
    "---"
   ]
  },
  {
   "cell_type": "code",
   "execution_count": 19,
   "metadata": {},
   "outputs": [
    {
     "name": "stdout",
     "output_type": "stream",
     "text": [
      "['__add__', '__class__', '__contains__', '__delattr__', '__dir__', '__doc__', '__eq__', '__format__', '__ge__', '__getattribute__', '__getitem__', '__getnewargs__', '__gt__', '__hash__', '__init__', '__init_subclass__', '__iter__', '__le__', '__len__', '__lt__', '__mod__', '__mul__', '__ne__', '__new__', '__reduce__', '__reduce_ex__', '__repr__', '__rmod__', '__rmul__', '__setattr__', '__sizeof__', '__str__', '__subclasshook__', 'capitalize', 'casefold', 'center', 'count', 'encode', 'endswith', 'expandtabs', 'find', 'format', 'format_map', 'index', 'isalnum', 'isalpha', 'isascii', 'isdecimal', 'isdigit', 'isidentifier', 'islower', 'isnumeric', 'isprintable', 'isspace', 'istitle', 'isupper', 'join', 'ljust', 'lower', 'lstrip', 'maketrans', 'partition', 'replace', 'rfind', 'rindex', 'rjust', 'rpartition', 'rsplit', 'rstrip', 'split', 'splitlines', 'startswith', 'strip', 'swapcase', 'title', 'translate', 'upper', 'zfill']\n"
     ]
    }
   ],
   "source": [
    "print(dir(name))"
   ]
  },
  {
   "cell_type": "code",
   "execution_count": null,
   "metadata": {},
   "outputs": [],
   "source": [
    "print(help(str))"
   ]
  },
  {
   "cell_type": "code",
   "execution_count": 21,
   "metadata": {},
   "outputs": [
    {
     "name": "stdout",
     "output_type": "stream",
     "text": [
      "Help on method_descriptor:\n",
      "\n",
      "lower(self, /)\n",
      "    Return a copy of the string converted to lowercase.\n",
      "\n",
      "None\n"
     ]
    }
   ],
   "source": [
    "print(help(str.lower))"
   ]
  }
 ],
 "metadata": {
  "kernelspec": {
   "display_name": "Python 3",
   "language": "python",
   "name": "python3"
  },
  "language_info": {
   "codemirror_mode": {
    "name": "ipython",
    "version": 3
   },
   "file_extension": ".py",
   "mimetype": "text/x-python",
   "name": "python",
   "nbconvert_exporter": "python",
   "pygments_lexer": "ipython3",
   "version": "3.7.3"
  }
 },
 "nbformat": 4,
 "nbformat_minor": 4
}
