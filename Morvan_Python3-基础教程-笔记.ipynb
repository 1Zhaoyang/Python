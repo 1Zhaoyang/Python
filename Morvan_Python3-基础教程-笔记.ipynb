{
 "cells": [
  {
   "cell_type": "markdown",
   "metadata": {},
   "source": [
    "Morvan: Python3 基础教程 笔记\n",
    "====\n",
    "---\n",
    "<https://morvanzhou.github.io/tutorials/python-basic/basic/>"
   ]
  },
  {
   "cell_type": "markdown",
   "metadata": {},
   "source": [
    "1/13 安装\n",
    "----"
   ]
  },
  {
   "cell_type": "markdown",
   "metadata": {},
   "source": [
    "[1] Python是基于C语言的。  \n",
    "[2] 它的应用很广泛，比如谷歌的机器学习。机器学习中最牛的神经网络也是用python编译的。    \n",
    "[3] 设置环境变量（for windows）  \n",
    "添加python安装路径到系统的环境变量中；   \n",
    "添加pip3的安装路径到系统的环境变量中。   \n",
    "[4] 检查python是否正确安装，打开IDLE.   \n",
    "\n"
   ]
  },
  {
   "cell_type": "markdown",
   "metadata": {},
   "source": [
    "2/13 基本使用\n",
    "--"
   ]
  },
  {
   "cell_type": "markdown",
   "metadata": {},
   "source": [
    "**2.1 print 功能**"
   ]
  },
  {
   "cell_type": "code",
   "execution_count": 5,
   "metadata": {},
   "outputs": [
    {
     "name": "stdout",
     "output_type": "stream",
     "text": [
      "We are the heros\n",
      "We are the heros\n"
     ]
    }
   ],
   "source": [
    "# 单双引号都可以。\n",
    "print ('We are the heros')\n",
    "print (\"We are the heros\")"
   ]
  },
  {
   "cell_type": "code",
   "execution_count": 4,
   "metadata": {},
   "outputs": [
    {
     "name": "stdout",
     "output_type": "stream",
     "text": [
      "We're the heros\n",
      "We're the heros\n"
     ]
    }
   ],
   "source": [
    "# 如何打印出引号\n",
    "print (\"We're the heros\")\n",
    "print ('We\\'re the heros') "
   ]
  },
  {
   "cell_type": "code",
   "execution_count": 10,
   "metadata": {},
   "outputs": [
    {
     "name": "stdout",
     "output_type": "stream",
     "text": [
      "applecar\n",
      "apple4\n",
      "3\n",
      "3.2\n"
     ]
    }
   ],
   "source": [
    "# 字符串操作, str();int()；float()\n",
    "print('apple'+'car')\n",
    "print('apple'+str(4))\n",
    "print(int('1')+2)\n",
    "print(float('1.2')+2)"
   ]
  },
  {
   "cell_type": "markdown",
   "metadata": {},
   "source": [
    "**2.2基础数学运算**"
   ]
  },
  {
   "cell_type": "code",
   "execution_count": 13,
   "metadata": {},
   "outputs": [
    {
     "name": "stdout",
     "output_type": "stream",
     "text": [
      "9\n",
      "2\n",
      "3\n"
     ]
    }
   ],
   "source": [
    "# 平方**；取余数%; 整除//\n",
    "print(3**2)\n",
    "print(8%3)\n",
    "print(10//3)"
   ]
  },
  {
   "cell_type": "markdown",
   "metadata": {},
   "source": [
    "**2.3变量**"
   ]
  },
  {
   "cell_type": "code",
   "execution_count": 15,
   "metadata": {},
   "outputs": [
    {
     "name": "stdout",
     "output_type": "stream",
     "text": [
      "1 2 3\n"
     ]
    }
   ],
   "source": [
    "#一次命名多个自变量\n",
    "# 自变量就是便于把值放到内存当中，便于之后的运算。\n",
    "a,b,c = 1, 2, 3\n",
    "print(a, b, c)"
   ]
  },
  {
   "cell_type": "markdown",
   "metadata": {},
   "source": [
    "3/13 While 和 For 循环\n",
    "--"
   ]
  },
  {
   "cell_type": "markdown",
   "metadata": {},
   "source": [
    "**3.1 While 循环**"
   ]
  },
  {
   "cell_type": "markdown",
   "metadata": {},
   "source": [
    "[1] 快捷键`Ctril+C`可以终止无限循环。   \n",
    "[2] Whil conditions:   \n",
    "expressions   \n",
    "[3] coditions 包括的类型：   \n",
    "- Boolean 操作符 >, <,>=, !=    \n",
    "- 数字。0和0.0为False, 其余为真。  \n",
    "- None类型为假   \n",
    "- 集合类型 list, tuple, set, dict。当集合为空时，为假。     "
   ]
  },
  {
   "cell_type": "markdown",
   "metadata": {},
   "source": [
    "**3.2 for 循环**"
   ]
  },
  {
   "cell_type": "markdown",
   "metadata": {},
   "source": [
    "[1] for循环相当于迭代器的作用   \n",
    "[2] 快捷键`Ctril +[` 改变语句块的整体缩进   \n",
    "[3] Python中的for句法实际上实现了设计模块的迭代器模式，所以我们自己也可以按照迭代器的要求自己生成迭代器对象，以便在for语句中使用。只要类中实现了__iter__和next函数，那么对象就可以在for语句中使用。   \n",
    "[4] 除了使用迭代器以外，Python使用yield关键字也能实现类似迭代的效果，yield语句每次执行时，立即返回结果给上层调用这，而当前的状态能保留，以便迭代器下一次循环调用。这样做的好处是在于节约硬件资源，在需要的时候才会执行，并且每次执行一次。"
   ]
  },
  {
   "cell_type": "code",
   "execution_count": 17,
   "metadata": {},
   "outputs": [
    {
     "name": "stdout",
     "output_type": "stream",
     "text": [
      "python\n",
      "2.7\n",
      "6\n"
     ]
    }
   ],
   "source": [
    "# 内置集合 list[], set(), dict{}, tuple(), 都能够迭代。\n",
    "tup = ('python',2.7,6)\n",
    "for i in tup:\n",
    "    print(i)"
   ]
  },
  {
   "cell_type": "code",
   "execution_count": 21,
   "metadata": {},
   "outputs": [
    {
     "name": "stdout",
     "output_type": "stream",
     "text": [
      "ian python\n",
      "op My oppo\n",
      "yu uu\n"
     ]
    }
   ],
   "source": [
    "# 字典在迭代的过程中，将key作为可迭代的对象返回，注意key是乱序的，如果想要有顺序的字典，请\n",
    "# 使用collections模块中的OrderedDict.\n",
    "dic = {}\n",
    "dic['ian'] = 'python'\n",
    "dic['op']='My oppo'\n",
    "dic['yu']='uu'\n",
    "for key in dic:\n",
    "    print(key, dic[key])"
   ]
  },
  {
   "cell_type": "code",
   "execution_count": 25,
   "metadata": {},
   "outputs": [
    {
     "name": "stdout",
     "output_type": "stream",
     "text": [
      "{'ui', 'yu', 'opoo'}\n",
      "{'ui', 'yu', 'opoo'}\n",
      "{'ui', 'yu', 'opoo'}\n"
     ]
    }
   ],
   "source": [
    "# set集合将去除重复项，且无序。\n",
    "s = set(['yu','opoo','ui','ui'])\n",
    "for item in s:\n",
    "    print(s)"
   ]
  },
  {
   "cell_type": "code",
   "execution_count": 26,
   "metadata": {},
   "outputs": [
    {
     "name": "stdout",
     "output_type": "stream",
     "text": [
      "1\n",
      "1\n",
      "2\n",
      "3\n",
      "5\n"
     ]
    }
   ],
   "source": [
    "# 迭代器define a Fib class\n",
    "class Fib(object):\n",
    "    def __init__(self,max):\n",
    "        self.max=max\n",
    "        self.n, self.a, self.b = 0,0,1\n",
    "    def __iter__(self):\n",
    "        return self\n",
    "    def __next__(self):\n",
    "        if self.n<self.max:\n",
    "            r = self.b\n",
    "            self.a, self.b = self.b, self.a+self.b\n",
    "            self.n = self.n+1\n",
    "            return r\n",
    "        raise StopIteration()\n",
    "        \n",
    "# using Fib object\n",
    "for i in Fib(5):\n",
    "    print(i)   "
   ]
  },
  {
   "cell_type": "code",
   "execution_count": 27,
   "metadata": {},
   "outputs": [
    {
     "name": "stdout",
     "output_type": "stream",
     "text": [
      "1\n",
      "1\n",
      "2\n",
      "3\n",
      "5\n"
     ]
    }
   ],
   "source": [
    "def fib(max):\n",
    "    a,b = 0,1\n",
    "    while max:\n",
    "        r =b\n",
    "        a,b = b,a+b\n",
    "        max -=1\n",
    "        yield r\n",
    "# using generator\n",
    "for i in fib(5):\n",
    "    print(i)"
   ]
  },
  {
   "cell_type": "markdown",
   "metadata": {},
   "source": [
    "4/13 if 判断\n",
    "--"
   ]
  },
  {
   "cell_type": "code",
   "execution_count": 28,
   "metadata": {},
   "outputs": [
    {
     "name": "stdout",
     "output_type": "stream",
     "text": [
      "good\n"
     ]
    }
   ],
   "source": [
    "# python特有的语言特点 x<y<y 相当于x<y and y<z. 不鼓励这样写，为了让其他语言的程序能够看懂\n",
    "#你的代码\n",
    "x = 4\n",
    "y = 2\n",
    "z = 0\n",
    "if x>y>0:\n",
    "    print('good')"
   ]
  },
  {
   "cell_type": "markdown",
   "metadata": {},
   "source": [
    "5/13 if 定义功能\n",
    "--"
   ]
  },
  {
   "cell_type": "code",
   "execution_count": 30,
   "metadata": {},
   "outputs": [
    {
     "name": "stdout",
     "output_type": "stream",
     "text": [
      "This is a function\n",
      "3\n"
     ]
    }
   ],
   "source": [
    "# \n",
    "def function():\n",
    "    print('This is a function')\n",
    "    a = 1+2\n",
    "    print(a)\n",
    "function()"
   ]
  },
  {
   "cell_type": "code",
   "execution_count": 31,
   "metadata": {},
   "outputs": [
    {
     "name": "stdout",
     "output_type": "stream",
     "text": [
      "the c is 2\n",
      "the c is 10\n"
     ]
    }
   ],
   "source": [
    "def fun(a,b):\n",
    "    c = a*b\n",
    "    print('the c is',c)\n",
    "fun(1,2)\n",
    "fun(a= 2,b=5)"
   ]
  },
  {
   "cell_type": "code",
   "execution_count": 34,
   "metadata": {},
   "outputs": [
    {
     "name": "stdout",
     "output_type": "stream",
     "text": [
      "6\n",
      "6\n"
     ]
    }
   ],
   "source": [
    "# 函数的输出值 return\n",
    "def fun():\n",
    "    a = 6\n",
    "    return(6)\n",
    "print(fun())\n",
    "b = fun()\n",
    "print(b)"
   ]
  },
  {
   "cell_type": "markdown",
   "metadata": {},
   "source": [
    "6/13 变量形式\n",
    "--"
   ]
  },
  {
   "cell_type": "code",
   "execution_count": 35,
   "metadata": {},
   "outputs": [
    {
     "name": "stdout",
     "output_type": "stream",
     "text": [
      "100\n",
      "past a None\n",
      "120\n",
      "a now= 20\n"
     ]
    }
   ],
   "source": [
    "# globel and local variable\n",
    "# 全局变量用大写\n",
    "APPLE = 100\n",
    "a = None\n",
    "def fun():\n",
    "    global a\n",
    "    a = 20\n",
    "    return a+100\n",
    "print(APPLE)\n",
    "print('past a',a)\n",
    "print(fun())\n",
    "print('a now=',a)"
   ]
  },
  {
   "cell_type": "markdown",
   "metadata": {},
   "source": [
    "7/13 模块安装\n",
    "--"
   ]
  },
  {
   "cell_type": "markdown",
   "metadata": {},
   "source": [
    "[1] mac中，模块的安装，卸载，升级    \n",
    "bash中，   \n",
    "sudo是升级到管理员身份      \n",
    "`sudo pip3 install numpy `    \n",
    "`sudo pip3 uninstall numpy`    \n",
    "`sudo pip3 install -U numpy`"
   ]
  },
  {
   "cell_type": "markdown",
   "metadata": {},
   "source": [
    "8/13 文件读取\n",
    "---"
   ]
  },
  {
   "cell_type": "code",
   "execution_count": 37,
   "metadata": {},
   "outputs": [
    {
     "name": "stdout",
     "output_type": "stream",
     "text": [
      "This is my first line.\n",
      "secod line. \n",
      "Third line\n"
     ]
    }
   ],
   "source": [
    "# \\n 另起一行\n",
    "text = 'This is my first line.\\nsecod line. \\nThird line'\n",
    "print(text)"
   ]
  },
  {
   "cell_type": "code",
   "execution_count": 38,
   "metadata": {},
   "outputs": [],
   "source": [
    "# 打开一个外部文件，open，如果没有该文件，open会创建一个空文件\n",
    "my_file = open('my file.txt','w') # w,以编辑形式打开；r以只读形式打开\n",
    "my_file.write(text)\n",
    "my_file.close()# 最重要的不要忘记关闭该文件，否则容易当机。"
   ]
  },
  {
   "cell_type": "code",
   "execution_count": 40,
   "metadata": {},
   "outputs": [],
   "source": [
    "# 在已有的文件中追加文字\n",
    "appended_text = '\\nthis is appended text'\n",
    "my_file = open('my file.txt','a') # a 表示appended\n",
    "my_file.write(appended_text)\n",
    "my_file.close()"
   ]
  },
  {
   "cell_type": "code",
   "execution_count": 47,
   "metadata": {},
   "outputs": [
    {
     "name": "stdout",
     "output_type": "stream",
     "text": [
      "['This is my first line.\\n', 'secod line. \\n', 'Third line\\n', ' this is appended text\\n', 'this is appended text']\n"
     ]
    }
   ],
   "source": [
    "# 文件读取，逐行读取\n",
    "file = open('my file.txt','r')\n",
    "#content = file.read()\n",
    "#content = file.readline() # 每次读取一行\n",
    "content = file.readlines() # 存储到一个list中\n",
    "print(content)"
   ]
  },
  {
   "cell_type": "markdown",
   "metadata": {},
   "source": [
    "9/13 Class 类\n",
    "---"
   ]
  },
  {
   "cell_type": "code",
   "execution_count": 53,
   "metadata": {},
   "outputs": [
    {
     "name": "stdout",
     "output_type": "stream",
     "text": [
      "Good calculator\n",
      "21\n"
     ]
    }
   ],
   "source": [
    "class Calculator:\n",
    "    name = 'Good calculator'\n",
    "    price = 18\n",
    "    def add(self,x,y):\n",
    "        print(x+y)\n",
    "    def minus(self,x,y):\n",
    "        print(x-y)\n",
    "        \n",
    "calcu = Calculator()\n",
    "print(calcu.name)\n",
    "calcu.add(10,11)"
   ]
  },
  {
   "cell_type": "code",
   "execution_count": 60,
   "metadata": {},
   "outputs": [
    {
     "name": "stdout",
     "output_type": "stream",
     "text": [
      "19\n",
      "Bad calculator\n",
      "18\n",
      "21\n"
     ]
    }
   ],
   "source": [
    "# __init__初始化是类自己的一个功能，当你建立一个类的时候，你必须输入一些参数。\n",
    "class Calculator:\n",
    "    #name = 'Good calculator' # 这是固有属性\n",
    "    #price = 18\n",
    "    def __init__(self,name, price, weight):\n",
    "        self.name= name #这是给定的属性\n",
    "        self.price = price\n",
    "        self.weight = weight\n",
    "        self.add(10,9)\n",
    "\n",
    "    def add(self,x,y):\n",
    "        print(x+y)\n",
    "    def minus(self,x,y):\n",
    "        print(x-y)\n",
    "calcu = Calculator('Bad calculator',18, 20)\n",
    "print(calcu.name)\n",
    "print(calcu.price)\n",
    "calcu.add(10,11)"
   ]
  },
  {
   "cell_type": "markdown",
   "metadata": {},
   "source": [
    "11/13 Input输入\n",
    "---"
   ]
  },
  {
   "cell_type": "code",
   "execution_count": 61,
   "metadata": {},
   "outputs": [
    {
     "name": "stdin",
     "output_type": "stream",
     "text": [
      "Please give a number 6\n"
     ]
    },
    {
     "name": "stdout",
     "output_type": "stream",
     "text": [
      "Try again\n"
     ]
    }
   ],
   "source": [
    "a_input = int(input('Please give a number')) # 注意返回为字符串\n",
    "if a_input == 1:\n",
    "    print('This is a good one')\n",
    "else:\n",
    "    print('Try again')"
   ]
  },
  {
   "cell_type": "markdown",
   "metadata": {},
   "source": [
    "12/13 元组，列表，字典\n",
    "---"
   ]
  },
  {
   "cell_type": "code",
   "execution_count": 62,
   "metadata": {},
   "outputs": [
    {
     "name": "stdout",
     "output_type": "stream",
     "text": [
      "index: 0 number 12\n",
      "index: 1 number 1\n",
      "index: 2 number 2\n"
     ]
    }
   ],
   "source": [
    "# tuple,list很相似，都是一连串有顺序的数字\n",
    "# 用途就是被迭代\n",
    "a_tup = (12,1,2)\n",
    "a_tup2 = 12, 1, 2\n",
    "a_list = [13,2,3]\n",
    "for index in range(len(a_tup)):\n",
    "    print('index:',index, 'number',a_tup[index])"
   ]
  },
  {
   "cell_type": "code",
   "execution_count": 65,
   "metadata": {},
   "outputs": [
    {
     "name": "stdout",
     "output_type": "stream",
     "text": [
      "[6, 7, 8, 0]\n",
      "[6, 0, 7, 8, 0]\n"
     ]
    }
   ],
   "source": [
    "#list添加\n",
    "lis=[6,7,8]\n",
    "lis.append(0) # 在末尾追加\n",
    "print(lis)\n",
    "lis.insert(1,0) #在指定的位置1添加0\n",
    "print(lis)"
   ]
  },
  {
   "cell_type": "code",
   "execution_count": 68,
   "metadata": {},
   "outputs": [
    {
     "name": "stdout",
     "output_type": "stream",
     "text": [
      "[2, 4, 5, 3]\n"
     ]
    }
   ],
   "source": [
    "#list移除\n",
    "list = [2,3,4,5,3]\n",
    "list.remove(3) # 去掉指定的一个值，只去掉首次出现的该值\n",
    "print(list)"
   ]
  },
  {
   "cell_type": "code",
   "execution_count": 74,
   "metadata": {},
   "outputs": [
    {
     "name": "stdout",
     "output_type": "stream",
     "text": [
      "2\n",
      "[7, 3, 2]\n",
      "[5, 6, 7]\n",
      "1\n",
      "1\n"
     ]
    }
   ],
   "source": [
    "#list索引\n",
    "lis1=[5,6,7,3,2]\n",
    "print(lis1[-1]) # 最后一位\n",
    "print(lis1[-3:])\n",
    "print(lis1[:3])\n",
    "# 查找索引\n",
    "print(lis1.index(6))#第一次出现值6的索引\n",
    "# 计数\n",
    "print(lis1.count(6)) #列表中出现6的次数"
   ]
  },
  {
   "cell_type": "code",
   "execution_count": 77,
   "metadata": {},
   "outputs": [
    {
     "name": "stdout",
     "output_type": "stream",
     "text": [
      "[0, 5, 6, 9, 10]\n",
      "[10, 9, 6, 5, 0]\n"
     ]
    }
   ],
   "source": [
    "#list 排序\n",
    "lis2 = [0, 9, 5, 6, 10]\n",
    "lis2.sort()\n",
    "print(lis2) # 默认将列表从小到大排序，且覆盖原来的列表\n",
    "lis2.sort(reverse=True)\n",
    "print(lis2)"
   ]
  },
  {
   "cell_type": "code",
   "execution_count": 80,
   "metadata": {},
   "outputs": [
    {
     "name": "stdout",
     "output_type": "stream",
     "text": [
      "{'apple': 1}\n",
      "{'apple': 1, 'po': 3}\n"
     ]
    }
   ],
   "source": [
    "# 字典\n",
    "d = {'apple':1,'pear':2}\n",
    "del d['pear'] # 删除字典某一元素\n",
    "print(d)\n",
    "d['po']=3 # 添加一个元素\n",
    "print(d)"
   ]
  },
  {
   "cell_type": "code",
   "execution_count": 83,
   "metadata": {},
   "outputs": [
    {
     "name": "stdout",
     "output_type": "stream",
     "text": [
      "q\n"
     ]
    }
   ],
   "source": [
    "# 字典的内容可以多样化，可以是一个列表，字典，或者一个函数\n",
    "d = {'appele':[2,3,4],'rt':{3:'q',6:'r'}}\n",
    "print(d['rt'][3])"
   ]
  },
  {
   "cell_type": "markdown",
   "metadata": {},
   "source": [
    "12/13 模块\n",
    "---"
   ]
  },
  {
   "cell_type": "code",
   "execution_count": 84,
   "metadata": {},
   "outputs": [],
   "source": [
    "# 自己创建的模块，放在当地目录下。\n",
    "# 或者放在python默认的外部模块链接中。python-> site-packages"
   ]
  },
  {
   "cell_type": "markdown",
   "metadata": {},
   "source": [
    "13/13 其他\n",
    "---"
   ]
  },
  {
   "cell_type": "markdown",
   "metadata": {},
   "source": [
    "**13.1 break & continue**"
   ]
  },
  {
   "cell_type": "code",
   "execution_count": 87,
   "metadata": {},
   "outputs": [
    {
     "name": "stdin",
     "output_type": "stream",
     "text": [
      "type something 1\n"
     ]
    },
    {
     "name": "stdout",
     "output_type": "stream",
     "text": [
      "finish running\n"
     ]
    }
   ],
   "source": [
    "a = True\n",
    "while a:\n",
    "    b = input('type something')\n",
    "    if b == '1':\n",
    "        a = False\n",
    "    else:\n",
    "        pass\n",
    "print('finish running')"
   ]
  },
  {
   "cell_type": "code",
   "execution_count": 88,
   "metadata": {},
   "outputs": [
    {
     "name": "stdin",
     "output_type": "stream",
     "text": [
      "type something 2\n"
     ]
    },
    {
     "name": "stdout",
     "output_type": "stream",
     "text": [
      "still in while loop\n"
     ]
    },
    {
     "name": "stdin",
     "output_type": "stream",
     "text": [
      "type something 1\n"
     ]
    },
    {
     "name": "stdout",
     "output_type": "stream",
     "text": [
      "finish running\n"
     ]
    }
   ],
   "source": [
    "# break 终止while循环\n",
    "while True:\n",
    "    b = input('type something')\n",
    "    if b =='1':\n",
    "        break\n",
    "    print('still in while loop')\n",
    "\n",
    "print('finish running')"
   ]
  },
  {
   "cell_type": "code",
   "execution_count": null,
   "metadata": {},
   "outputs": [
    {
     "name": "stdin",
     "output_type": "stream",
     "text": [
      "type something 2\n"
     ]
    },
    {
     "name": "stdout",
     "output_type": "stream",
     "text": [
      "still in while loop\n"
     ]
    },
    {
     "name": "stdin",
     "output_type": "stream",
     "text": [
      "type something 1\n"
     ]
    }
   ],
   "source": [
    "# continue 跳过这次循环，即不执行continue之后的语句\n",
    "while True:\n",
    "    b = input('type something')\n",
    "    if b =='1':\n",
    "        continue\n",
    "    print('still in while loop')\n",
    "\n",
    "print('finish running')"
   ]
  },
  {
   "cell_type": "code",
   "execution_count": 1,
   "metadata": {},
   "outputs": [
    {
     "name": "stdin",
     "output_type": "stream",
     "text": [
      "type something 2\n"
     ]
    },
    {
     "name": "stdout",
     "output_type": "stream",
     "text": [
      "still run\n"
     ]
    },
    {
     "name": "stdin",
     "output_type": "stream",
     "text": [
      "type something 1\n"
     ]
    },
    {
     "name": "stdout",
     "output_type": "stream",
     "text": [
      "still run\n",
      "finish running\n"
     ]
    }
   ],
   "source": [
    "# 看看以下方法同break以及continue的区别。那就是终止也要运行完。\n",
    "a = True\n",
    "while a:\n",
    "    b = input('type something')\n",
    "    if b == '1':\n",
    "        a = False\n",
    "    else:\n",
    "        pass\n",
    "    print('still run')\n",
    "    \n",
    "print('finish running')"
   ]
  },
  {
   "cell_type": "markdown",
   "metadata": {},
   "source": [
    "**13.2 错误处理try**"
   ]
  },
  {
   "cell_type": "code",
   "execution_count": 2,
   "metadata": {},
   "outputs": [
    {
     "name": "stdout",
     "output_type": "stream",
     "text": [
      "[Errno 2] No such file or directory: 'eeee'\n"
     ]
    }
   ],
   "source": [
    "try:\n",
    "    file = open('eeee','r')\n",
    "except Exception as e:\n",
    "    print(e)"
   ]
  },
  {
   "cell_type": "code",
   "execution_count": 3,
   "metadata": {},
   "outputs": [
    {
     "name": "stdout",
     "output_type": "stream",
     "text": [
      "There is no such file\n"
     ]
    },
    {
     "name": "stdin",
     "output_type": "stream",
     "text": [
      "do you want to create a new file y\n"
     ]
    }
   ],
   "source": [
    "# 更进一步的错误处理\n",
    "try:\n",
    "    file = open('eeee','r')\n",
    "except Exception as e:\n",
    "    print('There is no such file')\n",
    "    response = input('do you want to create a new file')\n",
    "    if response == 'y':\n",
    "        file = open('eeee','w')\n",
    "    else:\n",
    "        pass"
   ]
  },
  {
   "cell_type": "code",
   "execution_count": 4,
   "metadata": {},
   "outputs": [],
   "source": [
    "# 再进一步\n",
    "try:\n",
    "    file = open('eeee','r+') # 只读加写入，之后才能写出内容\n",
    "except Exception as e:\n",
    "    print('There is no such file')\n",
    "    response = input('do you want to create a new file')\n",
    "    if response == 'y':\n",
    "        file = open('eeee','w')\n",
    "    else:\n",
    "        pass\n",
    "else: # 如果try成功的话，就执行这里的内容。\n",
    "    file.write('ssss')\n",
    "file.close() # 千万不要忘记关闭文件。"
   ]
  },
  {
   "cell_type": "markdown",
   "metadata": {},
   "source": [
    "**13.3 zip, lambda, map**"
   ]
  },
  {
   "cell_type": "code",
   "execution_count": 9,
   "metadata": {},
   "outputs": [
    {
     "name": "stdout",
     "output_type": "stream",
     "text": [
      "0.5 8\n",
      "1.0 10\n",
      "1.5 12\n"
     ]
    },
    {
     "data": {
      "text/plain": [
       "[(1, 1, 4), (2, 2, 5), (3, 3, 6)]"
      ]
     },
     "execution_count": 9,
     "metadata": {},
     "output_type": "execute_result"
    }
   ],
   "source": [
    "# map是将某一功能附加给参数，是功能和参数的合体。\n",
    "# lambda相当于它的一个简化的功能/函数。\n",
    "# zip是为迭代器所作的东西。\n",
    "a = [1,2,3]\n",
    "b = [4,5,6]\n",
    "zip(a,b)\n",
    "list(zip(a,b))\n",
    "for i,j in zip(a,b):\n",
    "    print(i/2,j*2)\n",
    "    \n",
    "# zip更多的东西\n",
    "list(zip(a,a,b))"
   ]
  },
  {
   "cell_type": "code",
   "execution_count": 10,
   "metadata": {},
   "outputs": [],
   "source": [
    "# 用lambda来定义简单的方程\n",
    "def fun1(x,y):\n",
    "    return(x+y)\n",
    "fun2 = lambda x,y: x+y"
   ]
  },
  {
   "cell_type": "code",
   "execution_count": 12,
   "metadata": {},
   "outputs": [
    {
     "data": {
      "text/plain": [
       "9"
      ]
     },
     "execution_count": 12,
     "metadata": {},
     "output_type": "execute_result"
    }
   ],
   "source": [
    "fun1(2,3)\n",
    "fun2(3,6)"
   ]
  },
  {
   "cell_type": "code",
   "execution_count": 13,
   "metadata": {},
   "outputs": [
    {
     "data": {
      "text/plain": [
       "[3]"
      ]
     },
     "execution_count": 13,
     "metadata": {},
     "output_type": "execute_result"
    }
   ],
   "source": [
    "# map\n",
    "list(map(fun1,[1],[2]))"
   ]
  },
  {
   "cell_type": "code",
   "execution_count": 14,
   "metadata": {},
   "outputs": [
    {
     "data": {
      "text/plain": [
       "[3, 7]"
      ]
     },
     "execution_count": 14,
     "metadata": {},
     "output_type": "execute_result"
    }
   ],
   "source": [
    "list(map(fun1,[1,2],[2,5]))"
   ]
  },
  {
   "cell_type": "markdown",
   "metadata": {},
   "source": [
    "**13.4 copy & deepcopy**"
   ]
  },
  {
   "cell_type": "code",
   "execution_count": 15,
   "metadata": {},
   "outputs": [
    {
     "data": {
      "text/plain": [
       "1754239807816"
      ]
     },
     "execution_count": 15,
     "metadata": {},
     "output_type": "execute_result"
    }
   ],
   "source": [
    "# 区分 赋值，shalow copy与deepcopy的区别。\n",
    "a = [1,2,3]\n",
    "b = a\n",
    "id(a)\n",
    "id(b) # a 和b 在硬盘上的索引是一样的。"
   ]
  },
  {
   "cell_type": "code",
   "execution_count": 16,
   "metadata": {},
   "outputs": [
    {
     "name": "stdout",
     "output_type": "stream",
     "text": [
      "[11, 2, 3]\n"
     ]
    }
   ],
   "source": [
    "# 改变a 或者b的值，会相互影响。\n",
    "b[0] = 11\n",
    "print(a)"
   ]
  },
  {
   "cell_type": "code",
   "execution_count": 17,
   "metadata": {},
   "outputs": [],
   "source": [
    "import copy"
   ]
  },
  {
   "cell_type": "code",
   "execution_count": 18,
   "metadata": {},
   "outputs": [
    {
     "name": "stdout",
     "output_type": "stream",
     "text": [
      "False\n"
     ]
    }
   ],
   "source": [
    "# shalow copy,改变一个值，另一个值不会受到影响。\n",
    "c = copy.copy(a)\n",
    "print(id(a)==id(c))"
   ]
  },
  {
   "cell_type": "code",
   "execution_count": 23,
   "metadata": {},
   "outputs": [
    {
     "data": {
      "text/plain": [
       "True"
      ]
     },
     "execution_count": 23,
     "metadata": {},
     "output_type": "execute_result"
    }
   ],
   "source": [
    "# deep copy是完全的copy，任何东西都不会被重复\n",
    "a = [1,2,[3,4]]\n",
    "b = copy.copy(a)\n",
    "id(a)==id(b) # output False，在浅层的地方不一样\n",
    "id(a[2]) ==id(b[2]) # output True ,在深层的地方是索引到一样的地方"
   ]
  },
  {
   "cell_type": "code",
   "execution_count": 22,
   "metadata": {},
   "outputs": [
    {
     "data": {
      "text/plain": [
       "False"
      ]
     },
     "execution_count": 22,
     "metadata": {},
     "output_type": "execute_result"
    }
   ],
   "source": [
    "a = [1,2,[3,4]]\n",
    "b = copy.deepcopy(a)\n",
    "id(a)==id(b) # output False\n",
    "id(a[2]) ==id(b[2]) # output False"
   ]
  },
  {
   "cell_type": "markdown",
   "metadata": {},
   "source": [
    "**13.5 Threading什么是多线程**"
   ]
  },
  {
   "cell_type": "markdown",
   "metadata": {},
   "source": [
    "**13.6 multiprocessing什么是多进程**"
   ]
  },
  {
   "cell_type": "code",
   "execution_count": null,
   "metadata": {},
   "outputs": [],
   "source": [
    "# 运用多核的处理器cpu来运算。"
   ]
  },
  {
   "cell_type": "markdown",
   "metadata": {},
   "source": [
    "**13.7什么是tkinter窗口，窗口视窗。**"
   ]
  },
  {
   "cell_type": "code",
   "execution_count": 24,
   "metadata": {},
   "outputs": [],
   "source": [
    "#python特定的gui界面。"
   ]
  },
  {
   "cell_type": "markdown",
   "metadata": {},
   "source": [
    "**13.8 pickle 模块保存数据**"
   ]
  },
  {
   "cell_type": "code",
   "execution_count": 1,
   "metadata": {},
   "outputs": [],
   "source": [
    "import pickle\n",
    "# pickle 保存\n",
    "a_dict = {'da':111,2:[23,1,4]}\n",
    "file = open('example.pickle','wb')\n",
    "pickle.dump(a_dict,file)\n",
    "file.close()"
   ]
  },
  {
   "cell_type": "code",
   "execution_count": 2,
   "metadata": {},
   "outputs": [
    {
     "name": "stdout",
     "output_type": "stream",
     "text": [
      "{'da': 111, 2: [23, 1, 4]}\n"
     ]
    }
   ],
   "source": [
    "# pickle 提取\n",
    "file = open('example.pickle','rb')\n",
    "a_dict1= pickle.load(file)\n",
    "file.close\n",
    "print(a_dict1)"
   ]
  },
  {
   "cell_type": "code",
   "execution_count": 3,
   "metadata": {},
   "outputs": [
    {
     "name": "stdout",
     "output_type": "stream",
     "text": [
      "{'da': 111, 2: [23, 1, 4]}\n"
     ]
    }
   ],
   "source": [
    "with open('example.pickle','rb') as file:\n",
    "    a_dict1= pickle.load(file)\n",
    "print(a_dict1)"
   ]
  },
  {
   "cell_type": "markdown",
   "metadata": {},
   "source": [
    "**13.9 set找不同**"
   ]
  },
  {
   "cell_type": "code",
   "execution_count": 4,
   "metadata": {},
   "outputs": [
    {
     "name": "stdout",
     "output_type": "stream",
     "text": [
      "{'a', 'b'}\n"
     ]
    }
   ],
   "source": [
    "char_list=['a','a','b']\n",
    "print(set(char_list))"
   ]
  },
  {
   "cell_type": "code",
   "execution_count": 5,
   "metadata": {},
   "outputs": [
    {
     "name": "stdout",
     "output_type": "stream",
     "text": [
      "<class 'set'>\n"
     ]
    }
   ],
   "source": [
    "print(type(set(char_list)))"
   ]
  },
  {
   "cell_type": "code",
   "execution_count": null,
   "metadata": {},
   "outputs": [],
   "source": [
    "unique_char = set(char_list)\n",
    "# 添加元素\n",
    "unique_char.add('x') #只能一个一个的加\n",
    "unique_char.clear() # 清除所有的元素\n",
    "unique_char.remove('x') # 清除一个值\n",
    "unique_char.discard('y') # 清除一个没有值，不会报错，但是用remove这样做就会报错\n",
    "print(unique_char)"
   ]
  },
  {
   "cell_type": "code",
   "execution_count": 11,
   "metadata": {},
   "outputs": [
    {
     "name": "stdout",
     "output_type": "stream",
     "text": [
      "{'r', 't'}\n",
      "{'a'}\n"
     ]
    }
   ],
   "source": [
    "# 找两个集合相同或者不同的地方\n",
    "set1 = {'a','r','t'}\n",
    "set2 = {'a','y'}\n",
    "print(set1.difference(set2))\n",
    "print(set1.intersection(set2))"
   ]
  },
  {
   "cell_type": "markdown",
   "metadata": {},
   "source": [
    "**13.10 正则表达式**"
   ]
  },
  {
   "cell_type": "markdown",
   "metadata": {},
   "source": [
    "[1]对于文本处理的强大武器，叫做正则表达式。   \n",
    "[2] 正则表达式(Regular Expression)又称RegEx，是用来匹配字符的一种工具。\n",
    "[3] 在一大串字符中寻找你需要的内容。"
   ]
  },
  {
   "cell_type": "code",
   "execution_count": 13,
   "metadata": {},
   "outputs": [
    {
     "name": "stdout",
     "output_type": "stream",
     "text": [
      "True\n",
      "False\n"
     ]
    }
   ],
   "source": [
    "# 简单的python匹配\n",
    "# matching string\n",
    "pattern1 = \"cat\"\n",
    "pattern2 = \"bird\"\n",
    "string = \"dog runs to cat\"\n",
    "print (pattern1 in string)\n",
    "print (pattern2 in string)"
   ]
  },
  {
   "cell_type": "code",
   "execution_count": 14,
   "metadata": {},
   "outputs": [
    {
     "name": "stdout",
     "output_type": "stream",
     "text": [
      "<re.Match object; span=(12, 15), match='cat'>\n",
      "None\n"
     ]
    }
   ],
   "source": [
    "# 用正则寻找配对\n",
    "import re\n",
    "pattern1 = \"cat\"\n",
    "pattern2 = \"bird\"\n",
    "string = \"dog runs to cat\"\n",
    "print (re.search(pattern1,string))\n",
    "print (re.search(pattern2,string))"
   ]
  },
  {
   "cell_type": "code",
   "execution_count": 15,
   "metadata": {},
   "outputs": [
    {
     "name": "stdout",
     "output_type": "stream",
     "text": [
      "<re.Match object; span=(4, 7), match='ran'>\n"
     ]
    }
   ],
   "source": [
    "# 正则表达式的高级用法，匹配多种可能，使用[]\n",
    "# multiple patterns (\"run\" or \"ran\")\n",
    "ptn = r\"r[au]n\" # 注意前面的r 就将字符串变成了一个表达式\n",
    "print(re.search(ptn,\"dog rans to cat\"))"
   ]
  },
  {
   "cell_type": "code",
   "execution_count": 16,
   "metadata": {},
   "outputs": [
    {
     "name": "stdout",
     "output_type": "stream",
     "text": [
      "None\n",
      "<re.Match object; span=(4, 7), match='run'>\n",
      "None\n",
      "<re.Match object; span=(4, 7), match='run'>\n"
     ]
    }
   ],
   "source": [
    "# 匹配多种可能\n",
    "# continue\n",
    "print(re.search(r\"r[A-Z]n\", \"dog runs to cat\"))\n",
    "print(re.search(r\"r[a-z]n\", \"dog runs to cat\"))\n",
    "print(re.search(r\"r[0-9]n\", \"dog runs to cat\"))\n",
    "print(re.search(r\"r[0-9a-z]n\", \"dog runs to cat\"))"
   ]
  },
  {
   "cell_type": "code",
   "execution_count": 18,
   "metadata": {},
   "outputs": [
    {
     "name": "stdout",
     "output_type": "stream",
     "text": [
      "<re.Match object; span=(4, 7), match='r4n'>\n",
      "<re.Match object; span=(0, 3), match='run'>\n"
     ]
    }
   ],
   "source": [
    "# 数字\n",
    "# \\d: decimal digit\n",
    "print(re.search(r\"r\\dn\", \"run r4n\"))\n",
    "# \\D: any non-decimal digit\n",
    "print(re.search(r\"r\\Dn\", \"run r4n\"))"
   ]
  },
  {
   "cell_type": "code",
   "execution_count": 20,
   "metadata": {},
   "outputs": [
    {
     "name": "stdout",
     "output_type": "stream",
     "text": [
      "<re.Match object; span=(0, 3), match='r\\nn'>\n",
      "<re.Match object; span=(4, 7), match='r4n'>\n"
     ]
    }
   ],
   "source": [
    "# 空白\n",
    "# \\s: any white space [\\t\\n\\r\\f\\v]\n",
    "print(re.search(r\"r\\sn\", \"r\\nn r4n\"))\n",
    "# \\S: opposite to \\s, any non-white space\n",
    "print(re.search(r\"r\\Sn\", \"r\\nn r4n\"))"
   ]
  },
  {
   "cell_type": "code",
   "execution_count": 22,
   "metadata": {},
   "outputs": [
    {
     "name": "stdout",
     "output_type": "stream",
     "text": [
      "<re.Match object; span=(4, 7), match='r4n'>\n",
      "<re.Match object; span=(0, 3), match='r\\nn'>\n"
     ]
    }
   ],
   "source": [
    "# 所有字母数字和“_”\n",
    "# \\w: [a-zA-Z0-9_]\n",
    "print(re.search(r\"r\\wn\", \"r\\nn r4n\"))\n",
    "# \\W: opposite to \\w\n",
    "print(re.search(r\"r\\Wn\", \"r\\nn r4n\"))"
   ]
  },
  {
   "cell_type": "code",
   "execution_count": null,
   "metadata": {},
   "outputs": [],
   "source": []
  }
 ],
 "metadata": {
  "kernelspec": {
   "display_name": "Python 3",
   "language": "python",
   "name": "python3"
  },
  "language_info": {
   "codemirror_mode": {
    "name": "ipython",
    "version": 3
   },
   "file_extension": ".py",
   "mimetype": "text/x-python",
   "name": "python",
   "nbconvert_exporter": "python",
   "pygments_lexer": "ipython3",
   "version": "3.7.3"
  }
 },
 "nbformat": 4,
 "nbformat_minor": 4
}
